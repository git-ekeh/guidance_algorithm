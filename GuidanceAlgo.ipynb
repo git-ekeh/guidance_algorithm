{
  "nbformat": 4,
  "nbformat_minor": 0,
  "metadata": {
    "colab": {
      "provenance": [],
      "authorship_tag": "ABX9TyNlPIQr2suv+tQ1Z+iwhmS1",
      "include_colab_link": true
    },
    "kernelspec": {
      "name": "python3",
      "display_name": "Python 3"
    },
    "language_info": {
      "name": "python"
    }
  },
  "cells": [
    {
      "cell_type": "markdown",
      "metadata": {
        "id": "view-in-github",
        "colab_type": "text"
      },
      "source": [
        "<a href=\"https://colab.research.google.com/github/git-ekeh/guidance_algorithm/blob/main/GuidanceAlgo.ipynb\" target=\"_parent\"><img src=\"https://colab.research.google.com/assets/colab-badge.svg\" alt=\"Open In Colab\"/></a>"
      ]
    },
    {
      "cell_type": "code",
      "execution_count": null,
      "metadata": {
        "id": "0bZZ48xle0lf"
      },
      "outputs": [],
      "source": [
        "import tensorflow as tf\n",
        "import datasets\n",
        "import transformers\n",
        "from transformers import DataCollatorWithPadding\n",
        "from transformers import BertTokenizerFast, AutoTokenizer\n",
        "from transformers import DataCollatorWithPadding\n",
        "from datasets import load_dataset, Dataset\n",
        "from textrank_keywords import TextRank4Keyword\n",
        "from dsw_transformer import Transformer\n",
        "import pandas as pd\n",
        "import collections\n",
        "import itertools\n",
        "import concurrent.futures\n",
        "import pickle"
      ]
    },
    {
      "cell_type": "code",
      "source": [
        "xsum_validation = load_dataset(\"xsum\", split=\"validation\")\n",
        "\n",
        "xsum_validation_size = len(xsum_validation)\n",
        "\n",
        "xsum_validation_start, xsum_end = 0, xsum_validation_size\n",
        "\n",
        "sample_xsum = itertools.islice(xsum_validation, xsum_validation_start, xsum_end)\n",
        "\n",
        "#validation_features = validation.features\n",
        "\n",
        "def keywordExtraction(x):\n",
        "    textrank = TextRank4Keyword()\n",
        "    textrank.analyze(x, candidate_pos =['NOUN', 'PROPN'], window_size = 4, lower = False)\n",
        "    guidance_kw = textrank.get_keywords()\n",
        "    return guidance_kw\n",
        "\n",
        "def create_dict_with_keywords(example, dataset):\n",
        "\n",
        "    return {\n",
        "        \"document\": example['document'],\n",
        "        \"summary\": (example['summary']),\n",
        "        \"guidance\": keywordExtraction(example['document'])}\n",
        "\n",
        "\n",
        "def generate_dataset_dicts(data_iterator, data):\n",
        "    with concurrent.futures.ThreadPoolExecutor(8) as executor:\n",
        "        results = list(executor.map(create_dict_with_keywords, data_iterator, itertools.repeat(data)))\n",
        "\n",
        "    dataset_dict = {str(i): result for i, result in enumerate(results)}\n",
        "    return dataset_dict\n",
        "\n",
        "xsum_dict = generate_dataset_dicts(sample_xsum, xsum_validation)\n",
        "\n",
        "# Save the dictionaries to disk\n",
        "with open(\"xsum_validation_with_ranking.pkl\", \"wb\") as f:\n",
        "    pickle.dump(xsum_dict, f)"
      ],
      "metadata": {
        "id": "38I7Aigne7zf"
      },
      "execution_count": null,
      "outputs": []
    }
  ]
}